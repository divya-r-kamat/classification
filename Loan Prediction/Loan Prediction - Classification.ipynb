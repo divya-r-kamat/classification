{
 "cells": [
  {
   "cell_type": "code",
   "execution_count": 1,
   "metadata": {},
   "outputs": [
    {
     "name": "stdout",
     "output_type": "stream",
     "text": [
      "0.21.2\n"
     ]
    }
   ],
   "source": [
    "import sklearn\n",
    "print (sklearn.__version__)"
   ]
  },
  {
   "cell_type": "code",
   "execution_count": 2,
   "metadata": {},
   "outputs": [],
   "source": [
    "#Import all the necessary modules\n",
    "import pandas as pd\n",
    "import numpy as np\n",
    "import os\n",
    "import seaborn as sns\n",
    "import matplotlib.pyplot as plt\n",
    "%matplotlib inline\n",
    "\n",
    "import warnings\n",
    "warnings.filterwarnings('ignore')\n",
    "\n",
    "\n",
    "import xgboost as xgb\n",
    "from xgboost.sklearn import XGBClassifier\n",
    "from sklearn.model_selection import cross_validate\n",
    "from sklearn.model_selection import GridSearchCV\n",
    "from sklearn import metrics\n"
   ]
  },
  {
   "cell_type": "code",
   "execution_count": 3,
   "metadata": {},
   "outputs": [
    {
     "data": {
      "text/html": [
       "<div>\n",
       "<style scoped>\n",
       "    .dataframe tbody tr th:only-of-type {\n",
       "        vertical-align: middle;\n",
       "    }\n",
       "\n",
       "    .dataframe tbody tr th {\n",
       "        vertical-align: top;\n",
       "    }\n",
       "\n",
       "    .dataframe thead th {\n",
       "        text-align: right;\n",
       "    }\n",
       "</style>\n",
       "<table border=\"1\" class=\"dataframe\">\n",
       "  <thead>\n",
       "    <tr style=\"text-align: right;\">\n",
       "      <th></th>\n",
       "      <th>Disbursed</th>\n",
       "      <th>Existing_EMI</th>\n",
       "      <th>ID</th>\n",
       "      <th>Loan_Amount_Applied</th>\n",
       "      <th>Loan_Tenure_Applied</th>\n",
       "      <th>Monthly_Income</th>\n",
       "      <th>Var4</th>\n",
       "      <th>Var5</th>\n",
       "      <th>Age</th>\n",
       "      <th>EMI_Loan_Submitted_Missing</th>\n",
       "      <th>...</th>\n",
       "      <th>Var2_2</th>\n",
       "      <th>Var2_3</th>\n",
       "      <th>Var2_4</th>\n",
       "      <th>Var2_5</th>\n",
       "      <th>Var2_6</th>\n",
       "      <th>Mobile_Verified_0</th>\n",
       "      <th>Mobile_Verified_1</th>\n",
       "      <th>Source_0</th>\n",
       "      <th>Source_1</th>\n",
       "      <th>Source_2</th>\n",
       "    </tr>\n",
       "  </thead>\n",
       "  <tbody>\n",
       "    <tr>\n",
       "      <th>0</th>\n",
       "      <td>0.0</td>\n",
       "      <td>0.0</td>\n",
       "      <td>ID000002C20</td>\n",
       "      <td>300000.0</td>\n",
       "      <td>5.0</td>\n",
       "      <td>20000</td>\n",
       "      <td>1</td>\n",
       "      <td>0</td>\n",
       "      <td>37</td>\n",
       "      <td>1</td>\n",
       "      <td>...</td>\n",
       "      <td>0.0</td>\n",
       "      <td>0.0</td>\n",
       "      <td>0.0</td>\n",
       "      <td>0.0</td>\n",
       "      <td>1.0</td>\n",
       "      <td>1.0</td>\n",
       "      <td>0.0</td>\n",
       "      <td>1.0</td>\n",
       "      <td>0.0</td>\n",
       "      <td>0.0</td>\n",
       "    </tr>\n",
       "    <tr>\n",
       "      <th>1</th>\n",
       "      <td>0.0</td>\n",
       "      <td>0.0</td>\n",
       "      <td>ID000004E40</td>\n",
       "      <td>200000.0</td>\n",
       "      <td>2.0</td>\n",
       "      <td>35000</td>\n",
       "      <td>3</td>\n",
       "      <td>13</td>\n",
       "      <td>30</td>\n",
       "      <td>0</td>\n",
       "      <td>...</td>\n",
       "      <td>0.0</td>\n",
       "      <td>0.0</td>\n",
       "      <td>0.0</td>\n",
       "      <td>0.0</td>\n",
       "      <td>1.0</td>\n",
       "      <td>0.0</td>\n",
       "      <td>1.0</td>\n",
       "      <td>1.0</td>\n",
       "      <td>0.0</td>\n",
       "      <td>0.0</td>\n",
       "    </tr>\n",
       "    <tr>\n",
       "      <th>2</th>\n",
       "      <td>0.0</td>\n",
       "      <td>0.0</td>\n",
       "      <td>ID000007H20</td>\n",
       "      <td>600000.0</td>\n",
       "      <td>4.0</td>\n",
       "      <td>22500</td>\n",
       "      <td>1</td>\n",
       "      <td>0</td>\n",
       "      <td>34</td>\n",
       "      <td>1</td>\n",
       "      <td>...</td>\n",
       "      <td>0.0</td>\n",
       "      <td>0.0</td>\n",
       "      <td>0.0</td>\n",
       "      <td>0.0</td>\n",
       "      <td>0.0</td>\n",
       "      <td>0.0</td>\n",
       "      <td>1.0</td>\n",
       "      <td>0.0</td>\n",
       "      <td>0.0</td>\n",
       "      <td>1.0</td>\n",
       "    </tr>\n",
       "    <tr>\n",
       "      <th>3</th>\n",
       "      <td>0.0</td>\n",
       "      <td>0.0</td>\n",
       "      <td>ID000008I30</td>\n",
       "      <td>1000000.0</td>\n",
       "      <td>5.0</td>\n",
       "      <td>35000</td>\n",
       "      <td>3</td>\n",
       "      <td>10</td>\n",
       "      <td>28</td>\n",
       "      <td>1</td>\n",
       "      <td>...</td>\n",
       "      <td>0.0</td>\n",
       "      <td>0.0</td>\n",
       "      <td>0.0</td>\n",
       "      <td>0.0</td>\n",
       "      <td>0.0</td>\n",
       "      <td>0.0</td>\n",
       "      <td>1.0</td>\n",
       "      <td>0.0</td>\n",
       "      <td>0.0</td>\n",
       "      <td>1.0</td>\n",
       "    </tr>\n",
       "    <tr>\n",
       "      <th>4</th>\n",
       "      <td>0.0</td>\n",
       "      <td>25000.0</td>\n",
       "      <td>ID000009J40</td>\n",
       "      <td>500000.0</td>\n",
       "      <td>2.0</td>\n",
       "      <td>100000</td>\n",
       "      <td>3</td>\n",
       "      <td>17</td>\n",
       "      <td>31</td>\n",
       "      <td>1</td>\n",
       "      <td>...</td>\n",
       "      <td>0.0</td>\n",
       "      <td>0.0</td>\n",
       "      <td>0.0</td>\n",
       "      <td>0.0</td>\n",
       "      <td>0.0</td>\n",
       "      <td>0.0</td>\n",
       "      <td>1.0</td>\n",
       "      <td>0.0</td>\n",
       "      <td>0.0</td>\n",
       "      <td>1.0</td>\n",
       "    </tr>\n",
       "  </tbody>\n",
       "</table>\n",
       "<p>5 rows × 51 columns</p>\n",
       "</div>"
      ],
      "text/plain": [
       "   Disbursed  Existing_EMI           ID  Loan_Amount_Applied  \\\n",
       "0        0.0           0.0  ID000002C20             300000.0   \n",
       "1        0.0           0.0  ID000004E40             200000.0   \n",
       "2        0.0           0.0  ID000007H20             600000.0   \n",
       "3        0.0           0.0  ID000008I30            1000000.0   \n",
       "4        0.0       25000.0  ID000009J40             500000.0   \n",
       "\n",
       "   Loan_Tenure_Applied  Monthly_Income  Var4  Var5  Age  \\\n",
       "0                  5.0           20000     1     0   37   \n",
       "1                  2.0           35000     3    13   30   \n",
       "2                  4.0           22500     1     0   34   \n",
       "3                  5.0           35000     3    10   28   \n",
       "4                  2.0          100000     3    17   31   \n",
       "\n",
       "   EMI_Loan_Submitted_Missing    ...     Var2_2  Var2_3  Var2_4  Var2_5  \\\n",
       "0                           1    ...        0.0     0.0     0.0     0.0   \n",
       "1                           0    ...        0.0     0.0     0.0     0.0   \n",
       "2                           1    ...        0.0     0.0     0.0     0.0   \n",
       "3                           1    ...        0.0     0.0     0.0     0.0   \n",
       "4                           1    ...        0.0     0.0     0.0     0.0   \n",
       "\n",
       "   Var2_6  Mobile_Verified_0  Mobile_Verified_1  Source_0  Source_1  Source_2  \n",
       "0     1.0                1.0                0.0       1.0       0.0       0.0  \n",
       "1     1.0                0.0                1.0       1.0       0.0       0.0  \n",
       "2     0.0                0.0                1.0       0.0       0.0       1.0  \n",
       "3     0.0                0.0                1.0       0.0       0.0       1.0  \n",
       "4     0.0                0.0                1.0       0.0       0.0       1.0  \n",
       "\n",
       "[5 rows x 51 columns]"
      ]
     },
     "execution_count": 3,
     "metadata": {},
     "output_type": "execute_result"
    }
   ],
   "source": [
    "df = pd.read_csv('loan.csv')\n",
    "df.head()"
   ]
  },
  {
   "cell_type": "markdown",
   "metadata": {},
   "source": [
    "I did not get the original data, I have preprocessed data that has gone through following pre-processing:\n",
    "\n",
    "- City variable dropped because of too many categories\n",
    "- DOB converted to Age | DOB dropped\n",
    "- EMI_Loan_Submitted_Missing created which is 1 if EMI_Loan_Submitted was missing else 0 | EMI_Loan_Submitted dropped\n",
    "- EmployerName dropped because of too many categories\n",
    "- Existing_EMI imputed with 0 (median) - 111 values were missing\n",
    "- Interest_Rate_Missing created which is 1 if Interest_Rate was missing else 0 | Interest_Rate dropped\n",
    "- Lead_Creation_Date dropped because made little intuitive impact on outcome\n",
    "- Loan_Amount_Applied, Loan_Tenure_Applied imputed with missing\n",
    "- Loan_Amount_Submitted_Missing created which is 1 if Loan_Amount_Submitted was missing else 0 | Loan_Amount_Submitted dropped\n",
    "- Loan_Tenure_Submitted_Missing created which is 1 if Loan_Tenure_Submitted was missing else 0 | Loan_Tenure_Submitted dropped\n",
    "- LoggedIn, Salary_Account removed\n",
    "- Processing_Fee_Missing created which is 1 if Processing_Fee was missing else 0 | Processing_Fee dropped\n",
    "- Source - top 2 kept as is and all others combined into different category\n",
    "- Numerical and One-Hot-Coding performed"
   ]
  },
  {
   "cell_type": "code",
   "execution_count": 4,
   "metadata": {},
   "outputs": [
    {
     "name": "stdout",
     "output_type": "stream",
     "text": [
      "<class 'pandas.core.frame.DataFrame'>\n",
      "RangeIndex: 87020 entries, 0 to 87019\n",
      "Data columns (total 51 columns):\n",
      "Disbursed                        87020 non-null float64\n",
      "Existing_EMI                     87020 non-null float64\n",
      "ID                               87020 non-null object\n",
      "Loan_Amount_Applied              87020 non-null float64\n",
      "Loan_Tenure_Applied              87020 non-null float64\n",
      "Monthly_Income                   87020 non-null int64\n",
      "Var4                             87020 non-null int64\n",
      "Var5                             87020 non-null int64\n",
      "Age                              87020 non-null int64\n",
      "EMI_Loan_Submitted_Missing       87020 non-null int64\n",
      "Interest_Rate_Missing            87020 non-null int64\n",
      "Loan_Amount_Submitted_Missing    87020 non-null int64\n",
      "Loan_Tenure_Submitted_Missing    87020 non-null int64\n",
      "Processing_Fee_Missing           87020 non-null int64\n",
      "Device_Type_0                    87020 non-null float64\n",
      "Device_Type_1                    87020 non-null float64\n",
      "Filled_Form_0                    87020 non-null float64\n",
      "Filled_Form_1                    87020 non-null float64\n",
      "Gender_0                         87020 non-null float64\n",
      "Gender_1                         87020 non-null float64\n",
      "Var1_0                           87020 non-null float64\n",
      "Var1_1                           87020 non-null float64\n",
      "Var1_2                           87020 non-null float64\n",
      "Var1_3                           87020 non-null float64\n",
      "Var1_4                           87020 non-null float64\n",
      "Var1_5                           87020 non-null float64\n",
      "Var1_6                           87020 non-null float64\n",
      "Var1_7                           87020 non-null float64\n",
      "Var1_8                           87020 non-null float64\n",
      "Var1_9                           87020 non-null float64\n",
      "Var1_10                          87020 non-null float64\n",
      "Var1_11                          87020 non-null float64\n",
      "Var1_12                          87020 non-null float64\n",
      "Var1_13                          87020 non-null float64\n",
      "Var1_14                          87020 non-null float64\n",
      "Var1_15                          87020 non-null float64\n",
      "Var1_16                          87020 non-null float64\n",
      "Var1_17                          87020 non-null float64\n",
      "Var1_18                          87020 non-null float64\n",
      "Var2_0                           87020 non-null float64\n",
      "Var2_1                           87020 non-null float64\n",
      "Var2_2                           87020 non-null float64\n",
      "Var2_3                           87020 non-null float64\n",
      "Var2_4                           87020 non-null float64\n",
      "Var2_5                           87020 non-null float64\n",
      "Var2_6                           87020 non-null float64\n",
      "Mobile_Verified_0                87020 non-null float64\n",
      "Mobile_Verified_1                87020 non-null float64\n",
      "Source_0                         87020 non-null float64\n",
      "Source_1                         87020 non-null float64\n",
      "Source_2                         87020 non-null float64\n",
      "dtypes: float64(41), int64(9), object(1)\n",
      "memory usage: 33.9+ MB\n"
     ]
    }
   ],
   "source": [
    "df.info()"
   ]
  },
  {
   "cell_type": "code",
   "execution_count": 5,
   "metadata": {},
   "outputs": [
    {
     "data": {
      "text/plain": [
       "0    85747\n",
       "1     1273\n",
       "Name: Disbursed, dtype: int64"
      ]
     },
     "execution_count": 5,
     "metadata": {},
     "output_type": "execute_result"
    }
   ],
   "source": [
    "df['Disbursed'] = df['Disbursed'].apply(lambda x: round(x))\n",
    "df.Disbursed.value_counts()"
   ]
  },
  {
   "cell_type": "code",
   "execution_count": 6,
   "metadata": {},
   "outputs": [],
   "source": [
    "target = 'Disbursed'\n",
    "X = df.loc[:, df.columns!=target]\n",
    "y = df.loc[:, df.columns==target]\n",
    "X.drop('ID',axis=1,inplace=True)"
   ]
  },
  {
   "cell_type": "markdown",
   "metadata": {},
   "source": [
    "Below we read in the data and separate into a training set and a \"testing set\". After creating the testing set, we cannot do any hyperparameter tuning with it! "
   ]
  },
  {
   "cell_type": "code",
   "execution_count": 7,
   "metadata": {},
   "outputs": [],
   "source": [
    "#Test train split\n",
    "from sklearn.model_selection import train_test_split\n",
    "X_train,X_test,y_train,y_test = train_test_split(X,y,test_size=0.2,random_state=3)"
   ]
  },
  {
   "cell_type": "markdown",
   "metadata": {},
   "source": [
    "#### General Approach for Parameter Tuning\n",
    "We will use an approach similar to that of GBM here. The various steps to be performed are:\n",
    "\n",
    "- Choose a relatively high learning rate. Generally a learning rate of 0.1 works but somewhere between 0.05 to 0.3 should work for different problems. Determine the optimum number of trees for this learning rate. XGBoost has a very useful function called as “cv” which performs cross-validation at each boosting iteration and thus returns the optimum number of trees required.\n",
    "- Tune tree-specific parameters ( max_depth, min_child_weight, gamma, subsample, colsample_bytree) for decided learning rate and number of trees. Note that we can choose different parameters to define a tree and I’ll take up an example here.\n",
    "- Tune regularization parameters (lambda, alpha) for xgboost which can help reduce model complexity and enhance performance.\n",
    "- Lower the learning rate and decide the optimal parameters ."
   ]
  },
  {
   "cell_type": "markdown",
   "metadata": {},
   "source": [
    "### Step 1: Fix learning rate and number of estimators for tuning tree-based parameters\n",
    "\n",
    "In order to decide on boosting parameters, we need to set some initial values of other parameters. Lets take the following values:\n",
    "\n",
    "- max_depth = 5 : This should be between 3-10. I’ve started with 5 but you can choose a different number as well. 4-6 can be good starting points.\n",
    "- min_child_weight = 1 : A smaller value is chosen because it is a highly imbalanced class problem and leaf nodes can have smaller size groups.\n",
    "- gamma = 0 : A smaller value like 0.1-0.2 can also be chosen for starting. This will anyways be tuned later.\n",
    "- subsample, colsample_bytree = 0.8 : This is a commonly used used start value. Typical values range between 0.5-0.9.\n",
    "- scale_pos_weight = 1: Because of high class imbalance.\n",
    "\n",
    "Please note that all the above are just initial estimates and will be tuned later. Lets take the default learning rate of 0.1 here and check the optimum number of trees using cv function of xgboost. The function defined above will do it for us."
   ]
  },
  {
   "cell_type": "code",
   "execution_count": 8,
   "metadata": {},
   "outputs": [],
   "source": [
    "xgb1 = XGBClassifier(\n",
    "        learning_rate=0.1,\n",
    "        n_estimators=1000,\n",
    "        max_depth=5,\n",
    "        min_child_weight=1,\n",
    "        gamma=0,\n",
    "        subsample=0.8,\n",
    "        colsample_bytree=0.8,\n",
    "        objective= 'binary:logistic',\n",
    "        nthread=4,\n",
    "        scale_pos_weight=1,\n",
    "        seed=27)"
   ]
  },
  {
   "cell_type": "code",
   "execution_count": 9,
   "metadata": {},
   "outputs": [],
   "source": [
    "predictors = X_train.columns\n",
    "target = y_train.columns"
   ]
  },
  {
   "cell_type": "code",
   "execution_count": 10,
   "metadata": {},
   "outputs": [
    {
     "data": {
      "text/plain": [
       "{'base_score': 0.5,\n",
       " 'booster': 'gbtree',\n",
       " 'colsample_bylevel': 1,\n",
       " 'colsample_bynode': 1,\n",
       " 'colsample_bytree': 0.8,\n",
       " 'gamma': 0,\n",
       " 'learning_rate': 0.1,\n",
       " 'max_delta_step': 0,\n",
       " 'max_depth': 5,\n",
       " 'min_child_weight': 1,\n",
       " 'missing': None,\n",
       " 'n_estimators': 1000,\n",
       " 'nthread': 4,\n",
       " 'objective': 'binary:logistic',\n",
       " 'reg_alpha': 0,\n",
       " 'reg_lambda': 1,\n",
       " 'scale_pos_weight': 1,\n",
       " 'seed': 27,\n",
       " 'subsample': 0.8,\n",
       " 'verbosity': 1}"
      ]
     },
     "execution_count": 10,
     "metadata": {},
     "output_type": "execute_result"
    }
   ],
   "source": [
    "xgb_param = xgb1.get_xgb_params()\n",
    "xgb_param"
   ]
  },
  {
   "cell_type": "markdown",
   "metadata": {},
   "source": [
    "DMatrix is a internal data structure that used by XGBoost which is optimized for both memory efficiency and training speed"
   ]
  },
  {
   "cell_type": "code",
   "execution_count": 11,
   "metadata": {},
   "outputs": [
    {
     "data": {
      "text/plain": [
       "{'base_score': 0.5,\n",
       " 'booster': 'gbtree',\n",
       " 'colsample_bylevel': 1,\n",
       " 'colsample_bynode': 1,\n",
       " 'colsample_bytree': 0.8,\n",
       " 'gamma': 0,\n",
       " 'learning_rate': 0.1,\n",
       " 'max_delta_step': 0,\n",
       " 'max_depth': 5,\n",
       " 'min_child_weight': 1,\n",
       " 'missing': None,\n",
       " 'n_estimators': 1000,\n",
       " 'n_jobs': 1,\n",
       " 'nthread': 4,\n",
       " 'objective': 'binary:logistic',\n",
       " 'random_state': 0,\n",
       " 'reg_alpha': 0,\n",
       " 'reg_lambda': 1,\n",
       " 'scale_pos_weight': 1,\n",
       " 'seed': 27,\n",
       " 'silent': None,\n",
       " 'subsample': 0.8,\n",
       " 'verbosity': 1}"
      ]
     },
     "execution_count": 11,
     "metadata": {},
     "output_type": "execute_result"
    }
   ],
   "source": [
    "xgb1.get_params()"
   ]
  },
  {
   "cell_type": "code",
   "execution_count": 12,
   "metadata": {},
   "outputs": [
    {
     "name": "stdout",
     "output_type": "stream",
     "text": [
      "122\n"
     ]
    },
    {
     "data": {
      "text/plain": [
       "XGBClassifier(base_score=0.5, booster='gbtree', colsample_bylevel=1,\n",
       "              colsample_bynode=1, colsample_bytree=0.8, gamma=0,\n",
       "              learning_rate=0.1, max_delta_step=0, max_depth=5,\n",
       "              min_child_weight=1, missing=None, n_estimators=122, n_jobs=1,\n",
       "              nthread=4, objective='binary:logistic', random_state=0,\n",
       "              reg_alpha=0, reg_lambda=1, scale_pos_weight=1, seed=27,\n",
       "              silent=None, subsample=0.8, verbosity=1)"
      ]
     },
     "execution_count": 12,
     "metadata": {},
     "output_type": "execute_result"
    }
   ],
   "source": [
    "xgtrain = xgb.DMatrix(X_train.values,label=y_train.values)\n",
    "xgtest = xgb.DMatrix(X_train.values)\n",
    "\n",
    "#Cross-validation with given parameters.\n",
    "cvresult = xgb.cv(xgb_param,xgtrain,num_boost_round=xgb_param['n_estimators'],nfold=5,metrics=['auc'],early_stopping_rounds=50)\n",
    "print(cvresult.shape[0])\n",
    "\n",
    "#Set the n_estimators with the count obtained from cv results\n",
    "xgb1.set_params(n_estimators=cvresult.shape[0])"
   ]
  },
  {
   "cell_type": "code",
   "execution_count": 13,
   "metadata": {},
   "outputs": [
    {
     "data": {
      "text/plain": [
       "XGBClassifier(base_score=0.5, booster='gbtree', colsample_bylevel=1,\n",
       "              colsample_bynode=1, colsample_bytree=0.8, gamma=0,\n",
       "              learning_rate=0.1, max_delta_step=0, max_depth=5,\n",
       "              min_child_weight=1, missing=None, n_estimators=122, n_jobs=1,\n",
       "              nthread=4, objective='binary:logistic', random_state=0,\n",
       "              reg_alpha=0, reg_lambda=1, scale_pos_weight=1, seed=27,\n",
       "              silent=None, subsample=0.8, verbosity=1)"
      ]
     },
     "execution_count": 13,
     "metadata": {},
     "output_type": "execute_result"
    }
   ],
   "source": [
    "#Fit the algorithm on the data\n",
    "xgb1.fit(X_train,y_train,eval_metric='auc')"
   ]
  },
  {
   "cell_type": "code",
   "execution_count": 14,
   "metadata": {},
   "outputs": [
    {
     "name": "stdout",
     "output_type": "stream",
     "text": [
      "\n",
      "Model Report\n",
      "Accuracy : 0.9852\n",
      "AUC Score (Train): 0.9032\n"
     ]
    }
   ],
   "source": [
    "#Predict training set\n",
    "y_pred = xgb1.predict(X_train)\n",
    "y_pred_proba = xgb1.predict_proba(X_train)[:,1]\n",
    "\n",
    "#Print model report:\n",
    "print (\"\\nModel Report\")\n",
    "print (\"Accuracy : {:.4}\".format(metrics.accuracy_score(y_train.values, y_pred)))\n",
    "print (\"AUC Score (Train): {:.4}\".format( metrics.roc_auc_score(y_train, y_pred_proba)))"
   ]
  },
  {
   "cell_type": "code",
   "execution_count": 15,
   "metadata": {},
   "outputs": [
    {
     "name": "stdout",
     "output_type": "stream",
     "text": [
      "AUC Score (Test): 0.8496\n"
     ]
    }
   ],
   "source": [
    "#Predict on testing data:\n",
    "y_pred_test = xgb1.predict_proba(X_test)[:,1]\n",
    "\n",
    "print (\"AUC Score (Test): {:.4}\".format( metrics.roc_auc_score(y_test, y_pred_test)))"
   ]
  },
  {
   "cell_type": "code",
   "execution_count": 16,
   "metadata": {},
   "outputs": [
    {
     "data": {
      "text/plain": [
       "Text(0,0.5,'Feature Importance Score')"
      ]
     },
     "execution_count": 16,
     "metadata": {},
     "output_type": "execute_result"
    },
    {
     "data": {
      "image/png": "[encoded data removed]",
      "text/plain": [
       "<Figure size 864x576 with 1 Axes>"
      ]
     },
     "metadata": {
      "needs_background": "light"
     },
     "output_type": "display_data"
    }
   ],
   "source": [
    "plt.figure(figsize=(12,8))\n",
    "feat_imp = pd.Series(xgb1.get_booster().get_score(importance_type='weight')).sort_values(ascending=False)\n",
    "feat_imp.plot(kind='bar', title='Feature Importances')\n",
    "plt.ylabel('Feature Importance Score')"
   ]
  },
  {
   "cell_type": "markdown",
   "metadata": {},
   "source": [
    "### Lets create a generic function to \n",
    "- update n_estimators with cv function of xgboost package\n",
    "- fit the model\n",
    "- determine training accuracy\n",
    "- determine training AUC\n",
    "- determine testing AUC\n",
    "- plot Feature Importance"
   ]
  },
  {
   "cell_type": "code",
   "execution_count": 17,
   "metadata": {},
   "outputs": [],
   "source": [
    "def modelfit(alg, X_train, X_test, y_train, y_test ,useTrainCV=True, cv_folds=5, early_stopping_rounds=50):\n",
    "    if useTrainCV is True:\n",
    "        xgb_param = alg.get_xgb_params()\n",
    "        \n",
    "        xgtrain = xgb.DMatrix(X_train.values,label=y_train.values)\n",
    "        xgtest = xgb.DMatrix(X_train.values)\n",
    "\n",
    "        #Cross-validation with given parameters.\n",
    "        cvresult = xgb.cv(xgb_param,xgtrain,num_boost_round=xgb_param['n_estimators'],\n",
    "                          nfold=cv_folds,metrics=['auc'],early_stopping_rounds=early_stopping_rounds)\n",
    "\n",
    "        #Set the n_estimators with the count obtained from cv results\n",
    "        alg.set_params(n_estimators=cvresult.shape[0])\n",
    "        print(\"Best estimators : \", cvresult.shape[0])\n",
    "        \n",
    "    #Fit the algorithm on the data\n",
    "    alg.fit(X_train,y_train,eval_metric='auc')\n",
    "        \n",
    "    #Predict training set\n",
    "    y_pred = xgb1.predict(X_train)\n",
    "    y_pred_proba = xgb1.predict_proba(X_train)[:,1]\n",
    "    \n",
    "    #Print model report:\n",
    "    print (\"\\nModel Report\")\n",
    "    print (\"Accuracy : {:.4}\".format(metrics.accuracy_score(y_train.values, y_pred)))\n",
    "    print (\"AUC Score (Train): {:.4}\".format( metrics.roc_auc_score(y_train, y_pred_proba)))\n",
    "    \n",
    "    #Predict on testing data:\n",
    "    y_pred_test = alg.predict_proba(X_test)[:,1]\n",
    "\n",
    "    print (\"AUC Score (Test): {:.4}\".format( metrics.roc_auc_score(y_test, y_pred_test)))\n",
    "    \n",
    "    plt.figure(figsize=(12,8))\n",
    "    feat_imp = pd.Series(alg.get_booster().get_score(importance_type='weight')).sort_values(ascending=False)\n",
    "    feat_imp.plot(kind='bar', title='Feature Importances')\n",
    "    plt.ylabel('Feature Importance Score')"
   ]
  },
  {
   "cell_type": "code",
   "execution_count": 18,
   "metadata": {},
   "outputs": [
    {
     "name": "stdout",
     "output_type": "stream",
     "text": [
      "Best estimators :  122\n",
      "\n",
      "Model Report\n",
      "Accuracy : 0.9852\n",
      "AUC Score (Train): 0.9032\n",
      "AUC Score (Test): 0.8496\n"
     ]
    },
    {
     "data": {
      "image/png": "[encoded data removed]",
      "text/plain": [
       "<Figure size 864x576 with 1 Axes>"
      ]
     },
     "metadata": {
      "needs_background": "light"
     },
     "output_type": "display_data"
    }
   ],
   "source": [
    "modelfit(xgb1, X_train, X_test, y_train, y_test)"
   ]
  },
  {
   "cell_type": "markdown",
   "metadata": {},
   "source": [
    "As you can see that here we got 122 as the optimal estimators for 0.1 learning rate. Note that if this value is too high depending on the power of the system. In that case you can increase the learning rate and re-run the command to get the reduced number of estimators."
   ]
  },
  {
   "cell_type": "markdown",
   "metadata": {},
   "source": [
    "### Step 2: Tune max_depth and min_child_weight\n",
    "\n",
    "Next, we tune these first as they will have the highest impact on model outcome. To start with, let’s set wider ranges and then we will perform another iteration for smaller ranges."
   ]
  },
  {
   "cell_type": "code",
   "execution_count": 19,
   "metadata": {},
   "outputs": [
    {
     "data": {
      "text/plain": [
       "({'mean_fit_time': array([28.09563828, 30.19628987, 45.95246177, 38.59872284, 51.39477935,\n",
       "         54.32691808, 70.90218554, 60.88766313]),\n",
       "  'std_fit_time': array([0.41398842, 1.92655163, 5.52982946, 0.53286101, 2.4352441 ,\n",
       "         0.33618002, 2.85659457, 9.02185049]),\n",
       "  'mean_score_time': array([0.14329948, 0.1733849 , 0.16805773, 0.14608951, 0.15471058,\n",
       "         0.14879541, 0.17827444, 0.19000983]),\n",
       "  'std_score_time': array([0.03059654, 0.02602753, 0.02997597, 0.01503105, 0.01488749,\n",
       "         0.02143733, 0.03369914, 0.02819897]),\n",
       "  'param_max_depth': masked_array(data=[3, 3, 5, 5, 7, 7, 9, 9],\n",
       "               mask=[False, False, False, False, False, False, False, False],\n",
       "         fill_value='?',\n",
       "              dtype=object),\n",
       "  'param_min_child_weight': masked_array(data=[2, 4, 2, 4, 2, 4, 2, 4],\n",
       "               mask=[False, False, False, False, False, False, False, False],\n",
       "         fill_value='?',\n",
       "              dtype=object),\n",
       "  'params': [{'max_depth': 3, 'min_child_weight': 2},\n",
       "   {'max_depth': 3, 'min_child_weight': 4},\n",
       "   {'max_depth': 5, 'min_child_weight': 2},\n",
       "   {'max_depth': 5, 'min_child_weight': 4},\n",
       "   {'max_depth': 7, 'min_child_weight': 2},\n",
       "   {'max_depth': 7, 'min_child_weight': 4},\n",
       "   {'max_depth': 9, 'min_child_weight': 2},\n",
       "   {'max_depth': 9, 'min_child_weight': 4}],\n",
       "  'split0_test_score': array([0.81974834, 0.82027327, 0.82451392, 0.82625125, 0.82524488,\n",
       "         0.82902206, 0.82110742, 0.82583691]),\n",
       "  'split1_test_score': array([0.83548078, 0.83518759, 0.83757082, 0.83164408, 0.82551941,\n",
       "         0.82806359, 0.82143759, 0.82308758]),\n",
       "  'split2_test_score': array([0.86292288, 0.86195166, 0.86393936, 0.86642156, 0.86246289,\n",
       "         0.85695415, 0.84878322, 0.85383304]),\n",
       "  'split3_test_score': array([0.83761868, 0.83853037, 0.84242547, 0.84092435, 0.84330089,\n",
       "         0.84112616, 0.839559  , 0.83964882]),\n",
       "  'split4_test_score': array([0.83175007, 0.82884279, 0.83038854, 0.82813902, 0.82715336,\n",
       "         0.82268688, 0.82363875, 0.82010574]),\n",
       "  'mean_test_score': array([0.83750415, 0.83695714, 0.83976762, 0.83867605, 0.83673629,\n",
       "         0.83557057, 0.8309052 , 0.83250242]),\n",
       "  'std_test_score': array([0.01413221, 0.01396085, 0.01354109, 0.01476294, 0.01452347,\n",
       "         0.01227476, 0.01125118, 0.01259216]),\n",
       "  'rank_test_score': array([3, 4, 1, 2, 5, 6, 8, 7])},\n",
       " {'max_depth': 5, 'min_child_weight': 2},\n",
       " 0.8397676226841405)"
      ]
     },
     "execution_count": 19,
     "metadata": {},
     "output_type": "execute_result"
    }
   ],
   "source": [
    "param_test1 = {\n",
    " 'max_depth':range(3,10,2),\n",
    " 'min_child_weight':range(2,6,2)\n",
    "}\n",
    "\n",
    "gsearch1 = GridSearchCV(estimator = XGBClassifier( learning_rate =0.1, n_estimators=122, max_depth=5,\n",
    " min_child_weight=1, gamma=0, subsample=0.8, colsample_bytree=0.8,\n",
    " objective= 'binary:logistic', nthread=4, scale_pos_weight=1, seed=27), \n",
    " param_grid = param_test1, scoring='roc_auc',n_jobs=4,iid=False, cv=5)\n",
    "\n",
    "gsearch1.fit(X_train,y_train.values.ravel())\n",
    "\n",
    "gsearch1.cv_results_, gsearch1.best_params_, gsearch1.best_score_"
   ]
  },
  {
   "cell_type": "code",
   "execution_count": 21,
   "metadata": {
    "scrolled": true
   },
   "outputs": [
    {
     "data": {
      "text/plain": [
       "({'mean_fit_time': array([41.2236196 , 37.52606568, 36.23579612, 45.7104486 , 42.99876862,\n",
       "         52.38587809, 55.6586277 , 49.89665031, 46.16236486]),\n",
       "  'std_fit_time': array([1.40308246, 0.31431185, 1.0112621 , 0.79134902, 1.65116344,\n",
       "         6.11491012, 8.83107675, 1.84429376, 6.93019253]),\n",
       "  'mean_score_time': array([0.18679624, 0.14057503, 0.14238   , 0.16413975, 0.17556543,\n",
       "         0.21547408, 0.17977614, 0.17626548, 0.15793142]),\n",
       "  'std_score_time': array([0.05008836, 0.01273272, 0.03113136, 0.04064467, 0.04741351,\n",
       "         0.02400691, 0.06316905, 0.05783636, 0.02904099]),\n",
       "  'param_max_depth': masked_array(data=[4, 4, 4, 5, 5, 5, 6, 6, 6],\n",
       "               mask=[False, False, False, False, False, False, False, False,\n",
       "                     False],\n",
       "         fill_value='?',\n",
       "              dtype=object),\n",
       "  'param_min_child_weight': masked_array(data=[1, 2, 3, 1, 2, 3, 1, 2, 3],\n",
       "               mask=[False, False, False, False, False, False, False, False,\n",
       "                     False],\n",
       "         fill_value='?',\n",
       "              dtype=object),\n",
       "  'params': [{'max_depth': 4, 'min_child_weight': 1},\n",
       "   {'max_depth': 4, 'min_child_weight': 2},\n",
       "   {'max_depth': 4, 'min_child_weight': 3},\n",
       "   {'max_depth': 5, 'min_child_weight': 1},\n",
       "   {'max_depth': 5, 'min_child_weight': 2},\n",
       "   {'max_depth': 5, 'min_child_weight': 3},\n",
       "   {'max_depth': 6, 'min_child_weight': 1},\n",
       "   {'max_depth': 6, 'min_child_weight': 2},\n",
       "   {'max_depth': 6, 'min_child_weight': 3}],\n",
       "  'split0_test_score': array([0.82494799, 0.82344733, 0.8247564 , 0.82710178, 0.82451392,\n",
       "         0.82476732, 0.82335013, 0.82625213, 0.82835855]),\n",
       "  'split1_test_score': array([0.83508457, 0.836338  , 0.8362695 , 0.83710224, 0.83757082,\n",
       "         0.83272898, 0.83376934, 0.83246097, 0.83171681]),\n",
       "  'split2_test_score': array([0.86596351, 0.86500039, 0.86692822, 0.86481936, 0.86393936,\n",
       "         0.86514286, 0.86417904, 0.86636856, 0.86229559]),\n",
       "  'split3_test_score': array([0.84281924, 0.83980626, 0.84037895, 0.84575262, 0.84242547,\n",
       "         0.84356962, 0.84584631, 0.84273647, 0.84445755]),\n",
       "  'split4_test_score': array([0.83293995, 0.8319764 , 0.83146888, 0.82922804, 0.83038854,\n",
       "         0.8308835 , 0.82875838, 0.82986403, 0.83124273]),\n",
       "  'mean_test_score': array([0.84035105, 0.83931368, 0.83996039, 0.84080081, 0.83976762,\n",
       "         0.83941846, 0.83918064, 0.83953643, 0.83961424]),\n",
       "  'std_test_score': array([0.01401431, 0.01396052, 0.01445219, 0.0136871 , 0.01354109,\n",
       "         0.01422131, 0.01454553, 0.0144934 , 0.01262572]),\n",
       "  'rank_test_score': array([2, 8, 3, 1, 4, 7, 9, 6, 5])},\n",
       " {'max_depth': 5, 'min_child_weight': 1},\n",
       " 0.8408008068095283)"
      ]
     },
     "execution_count": 21,
     "metadata": {},
     "output_type": "execute_result"
    }
   ],
   "source": [
    "param_test2 = {\n",
    " 'max_depth':[4,5,6],\n",
    " 'min_child_weight':[1,2,3]\n",
    "}\n",
    "gsearch2 = GridSearchCV(estimator = XGBClassifier( learning_rate=0.1, n_estimators=122, max_depth=5,\n",
    " min_child_weight=2, gamma=0, subsample=0.8, colsample_bytree=0.8,\n",
    " objective= 'binary:logistic', nthread=4, scale_pos_weight=1,seed=27), \n",
    " param_grid = param_test2, scoring='roc_auc',n_jobs=4,iid=False, cv=5)\n",
    "gsearch2.fit(X_train,y_train.values.ravel())\n",
    "gsearch2.cv_results_, gsearch2.best_params_, gsearch2.best_score_"
   ]
  },
  {
   "cell_type": "markdown",
   "metadata": {
    "collapsed": true
   },
   "source": [
    "### Step 3 : Tune gamma"
   ]
  },
  {
   "cell_type": "code",
   "execution_count": 22,
   "metadata": {},
   "outputs": [
    {
     "data": {
      "text/plain": [
       "({'mean_fit_time': array([47.95003557, 55.47046037, 52.4488605 , 49.1966135 , 41.67743168]),\n",
       "  'std_fit_time': array([ 5.0591445 ,  3.31573005,  0.77826038,  1.42131202, 11.93673199]),\n",
       "  'mean_score_time': array([0.17988091, 0.15631762, 0.19622254, 0.1666914 , 0.18218446]),\n",
       "  'std_score_time': array([0.0414344 , 0.02664942, 0.04141347, 0.03076848, 0.12195459]),\n",
       "  'param_gamma': masked_array(data=[0.0, 0.1, 0.2, 0.3, 0.4],\n",
       "               mask=[False, False, False, False, False],\n",
       "         fill_value='?',\n",
       "              dtype=object),\n",
       "  'params': [{'gamma': 0.0},\n",
       "   {'gamma': 0.1},\n",
       "   {'gamma': 0.2},\n",
       "   {'gamma': 0.3},\n",
       "   {'gamma': 0.4}],\n",
       "  'split0_test_score': array([0.82710178, 0.82539914, 0.82487526, 0.82498321, 0.8230962 ]),\n",
       "  'split1_test_score': array([0.83710224, 0.83831956, 0.83556249, 0.83661217, 0.83736356]),\n",
       "  'split2_test_score': array([0.86481936, 0.86490142, 0.86534292, 0.86626377, 0.86628543]),\n",
       "  'split3_test_score': array([0.84575262, 0.84536431, 0.84624748, 0.84358213, 0.84382674]),\n",
       "  'split4_test_score': array([0.82922804, 0.82962   , 0.827895  , 0.83047755, 0.82878935]),\n",
       "  'mean_test_score': array([0.84080081, 0.84072089, 0.83998463, 0.84038377, 0.83987226]),\n",
       "  'std_test_score': array([0.0136871 , 0.01392847, 0.01467156, 0.01434949, 0.01499236]),\n",
       "  'rank_test_score': array([1, 2, 4, 3, 5])},\n",
       " {'gamma': 0.0},\n",
       " 0.8408008068095283)"
      ]
     },
     "execution_count": 22,
     "metadata": {},
     "output_type": "execute_result"
    }
   ],
   "source": [
    "param_test3 = {\n",
    " 'gamma':[i/10.0 for i in range(0,5)]\n",
    "}\n",
    "\n",
    "gsearch3 = GridSearchCV(estimator = XGBClassifier( learning_rate =0.1, n_estimators=122, max_depth=5,\n",
    " min_child_weight=1, subsample=0.8, colsample_bytree=0.8,\n",
    " objective= 'binary:logistic', nthread=4, scale_pos_weight=1,seed=27), \n",
    " param_grid = param_test3, scoring='roc_auc',n_jobs=4,iid=False, cv=5)\n",
    "\n",
    "gsearch3.fit(X_train,y_train.values.ravel())\n",
    "gsearch3.cv_results_, gsearch3.best_params_, gsearch3.best_score_"
   ]
  },
  {
   "cell_type": "markdown",
   "metadata": {},
   "source": [
    "### Step 4 : Tune subsample and colsample_bytree"
   ]
  },
  {
   "cell_type": "code",
   "execution_count": 23,
   "metadata": {},
   "outputs": [
    {
     "data": {
      "text/plain": [
       "({'colsample_bytree': 0.8, 'subsample': 0.8}, 0.8408008068095283)"
      ]
     },
     "execution_count": 23,
     "metadata": {},
     "output_type": "execute_result"
    }
   ],
   "source": [
    "#Grid seach on subsample and max_features\n",
    "#Choose all predictors except target & IDcols\n",
    "param_test4 = {\n",
    "    'subsample':[i/10.0 for i in range(6,10)],\n",
    "    'colsample_bytree':[i/10.0 for i in range(6,10)]\n",
    "}\n",
    "gsearch4 = GridSearchCV(estimator = XGBClassifier( learning_rate =0.1, n_estimators=122, max_depth=5,\n",
    "                                        min_child_weight=1, gamma=0, subsample=0.8, colsample_bytree=0.8,\n",
    "                                        objective= 'binary:logistic', nthread=4, scale_pos_weight=1,seed=27), \n",
    "                       param_grid = param_test4, scoring='roc_auc',n_jobs=4,iid=False, cv=5)\n",
    "gsearch4.fit(X_train,y_train.values.ravel())\n",
    "gsearch4.best_params_, gsearch4.best_score_"
   ]
  },
  {
   "cell_type": "markdown",
   "metadata": {},
   "source": [
    "### Step 5: Tuning Regularization Parameters"
   ]
  },
  {
   "cell_type": "code",
   "execution_count": 24,
   "metadata": {},
   "outputs": [
    {
     "data": {
      "text/plain": [
       "({'reg_alpha': 1e-05}, 0.8408009476834184)"
      ]
     },
     "execution_count": 24,
     "metadata": {},
     "output_type": "execute_result"
    }
   ],
   "source": [
    "#Grid seach on subsample and max_features\n",
    "#Choose all predictors except target & IDcols (1e-5 : 0.00001)\n",
    "param_test5 = {\n",
    "    'reg_alpha':[1e-5, 1e-2, 0.1, 1, 100]\n",
    "}\n",
    "gsearch5 = GridSearchCV(estimator = XGBClassifier( learning_rate =0.1, n_estimators=122, max_depth=5,\n",
    "                                        min_child_weight=1, gamma=0, subsample=0.8, colsample_bytree=0.8,\n",
    "                                        objective= 'binary:logistic', nthread=4, scale_pos_weight=1,seed=27), \n",
    "                       param_grid = param_test5, scoring='roc_auc',n_jobs=4,iid=False, cv=5)\n",
    "gsearch5.fit(X_train,y_train.values.ravel())\n",
    "gsearch5.best_params_, gsearch5.best_score_"
   ]
  },
  {
   "cell_type": "code",
   "execution_count": 25,
   "metadata": {},
   "outputs": [
    {
     "name": "stdout",
     "output_type": "stream",
     "text": [
      "Best estimators :  122\n",
      "\n",
      "Model Report\n",
      "Accuracy : 0.9852\n",
      "AUC Score (Train): 0.9032\n",
      "AUC Score (Test): 0.8496\n"
     ]
    },
    {
     "data": {
      "image/png": "[encoded data removed]",
      "text/plain": [
       "<Figure size 864x576 with 1 Axes>"
      ]
     },
     "metadata": {
      "needs_background": "light"
     },
     "output_type": "display_data"
    }
   ],
   "source": [
    "xgb2 = XGBClassifier(\n",
    "        learning_rate =0.1,\n",
    "        n_estimators=1000,\n",
    "        max_depth=5,\n",
    "        min_child_weight=1,\n",
    "        gamma=0,\n",
    "        subsample=0.8,\n",
    "        colsample_bytree=0.8,\n",
    "        reg_alpha=1e-05,\n",
    "        objective= 'binary:logistic',\n",
    "        nthread=4,\n",
    "        scale_pos_weight=1,\n",
    "        seed=27)\n",
    "modelfit(xgb2, X_train, X_test, y_train, y_test)"
   ]
  },
  {
   "cell_type": "markdown",
   "metadata": {},
   "source": [
    "### Step 6: Reducing Learning Rate\n",
    "Lastly, we should lower the learning rate and add more trees. Lets use the cv function of XGBoost to do the job again.\n",
    "Normally, we decrease the learning rate to half, i.e. 0.05 and with twice the number of trees."
   ]
  },
  {
   "cell_type": "code",
   "execution_count": 29,
   "metadata": {},
   "outputs": [
    {
     "name": "stdout",
     "output_type": "stream",
     "text": [
      "Best estimators :  258\n",
      "\n",
      "Model Report\n",
      "Accuracy : 0.9852\n",
      "AUC Score (Train): 0.9032\n",
      "AUC Score (Test): 0.85\n"
     ]
    },
    {
     "data": {
      "image/png": "[encoded data removed]",
      "text/plain": [
       "<Figure size 864x576 with 1 Axes>"
      ]
     },
     "metadata": {
      "needs_background": "light"
     },
     "output_type": "display_data"
    }
   ],
   "source": [
    "xgb3 = XGBClassifier(\n",
    "        learning_rate =0.05,\n",
    "        n_estimators=5000,\n",
    "        max_depth=5,\n",
    "        min_child_weight=1,\n",
    "        gamma=0,\n",
    "        subsample=0.8,\n",
    "        colsample_bytree=0.8,\n",
    "        reg_alpha=1e-05,\n",
    "        objective= 'binary:logistic',\n",
    "        nthread=4,\n",
    "        scale_pos_weight=1,\n",
    "        seed=27)\n",
    "modelfit(xgb3, X_train, X_test, y_train, y_test)"
   ]
  },
  {
   "cell_type": "code",
   "execution_count": null,
   "metadata": {},
   "outputs": [],
   "source": []
  }
 ],
 "metadata": {
  "kernelspec": {
   "display_name": "Python 3",
   "language": "python",
   "name": "python3"
  },
  "language_info": {
   "codemirror_mode": {
    "name": "ipython",
    "version": 3
   },
   "file_extension": ".py",
   "mimetype": "text/x-python",
   "name": "python",
   "nbconvert_exporter": "python",
   "pygments_lexer": "ipython3",
   "version": "3.7.0"
  }
 },
 "nbformat": 4,
 "nbformat_minor": 2
}
